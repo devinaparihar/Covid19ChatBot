{
 "cells": [
  {
   "cell_type": "code",
   "execution_count": 2,
   "metadata": {},
   "outputs": [],
   "source": [
    "import pandas as pd\n",
    "import re\n",
    "import pkg_resources"
   ]
  },
  {
   "cell_type": "code",
   "execution_count": 3,
   "metadata": {},
   "outputs": [],
   "source": [
    "tweets_df = pd.read_pickle(\"tweets.pkl\")"
   ]
  },
  {
   "cell_type": "code",
   "execution_count": 4,
   "metadata": {},
   "outputs": [
    {
     "data": {
      "text/html": [
       "<div>\n",
       "<style scoped>\n",
       "    .dataframe tbody tr th:only-of-type {\n",
       "        vertical-align: middle;\n",
       "    }\n",
       "\n",
       "    .dataframe tbody tr th {\n",
       "        vertical-align: top;\n",
       "    }\n",
       "\n",
       "    .dataframe thead th {\n",
       "        text-align: right;\n",
       "    }\n",
       "</style>\n",
       "<table border=\"1\" class=\"dataframe\">\n",
       "  <thead>\n",
       "    <tr style=\"text-align: right;\">\n",
       "      <th></th>\n",
       "      <th>tweet</th>\n",
       "    </tr>\n",
       "  </thead>\n",
       "  <tbody>\n",
       "    <tr>\n",
       "      <td>0</td>\n",
       "      <td>RT @AnneKPIX: @CDC has activated its emergency...</td>\n",
       "    </tr>\n",
       "    <tr>\n",
       "      <td>1</td>\n",
       "      <td>RT @OurWarOnCancer: Where is our FEDERAL vacci...</td>\n",
       "    </tr>\n",
       "    <tr>\n",
       "      <td>2</td>\n",
       "      <td>RT @nytimes: Breaking News: The first U.S. cas...</td>\n",
       "    </tr>\n",
       "    <tr>\n",
       "      <td>3</td>\n",
       "      <td>RT @ScottAnthonyUSA: ⚠️ IT SHOULD BE NOTED tha...</td>\n",
       "    </tr>\n",
       "    <tr>\n",
       "      <td>4</td>\n",
       "      <td>RT @eugenegu: With the CDC confirming the firs...</td>\n",
       "    </tr>\n",
       "  </tbody>\n",
       "</table>\n",
       "</div>"
      ],
      "text/plain": [
       "                                               tweet\n",
       "0  RT @AnneKPIX: @CDC has activated its emergency...\n",
       "1  RT @OurWarOnCancer: Where is our FEDERAL vacci...\n",
       "2  RT @nytimes: Breaking News: The first U.S. cas...\n",
       "3  RT @ScottAnthonyUSA: ⚠️ IT SHOULD BE NOTED tha...\n",
       "4  RT @eugenegu: With the CDC confirming the firs..."
      ]
     },
     "execution_count": 4,
     "metadata": {},
     "output_type": "execute_result"
    }
   ],
   "source": [
    "tweets_df.head()"
   ]
  },
  {
   "cell_type": "code",
   "execution_count": 27,
   "metadata": {},
   "outputs": [],
   "source": [
    "def replaceRT(tweet):\n",
    "    return(tweet.replace(\"RT\", \"\"))\n",
    "\n",
    "\n",
    "\n",
    "links_regex = re.compile(r'http\\S+')\n",
    "def replaceLinks(tweet):\n",
    "    \n",
    "    return(re.sub(links_regex, '', tweet))\n",
    "\n",
    "\n",
    "twitter_regex = re.compile(r'(?<=^|(?<=[^a-zA-Z0-9-_\\.]))@([A-Za-z]+[A-Za-z0-9-_]+)')\n",
    "def replaceHandle(tweet):\n",
    "    \n",
    "    return(re.sub(twitter_regex, '', tweet))"
   ]
  },
  {
   "cell_type": "code",
   "execution_count": 6,
   "metadata": {},
   "outputs": [],
   "source": [
    "tweets_df['tweet'] = tweets_df['tweet'].apply(lambda x: replaceRT(x))"
   ]
  },
  {
   "cell_type": "code",
   "execution_count": 8,
   "metadata": {},
   "outputs": [],
   "source": [
    "tweets_df['tweet'] = tweets_df['tweet'].apply(lambda x: replaceHandle(x))"
   ]
  },
  {
   "cell_type": "code",
   "execution_count": 28,
   "metadata": {},
   "outputs": [],
   "source": [
    "tweets_df['tweet'] = tweets_df['tweet'].apply(lambda x: replaceLinks(x))"
   ]
  },
  {
   "cell_type": "code",
   "execution_count": 87,
   "metadata": {},
   "outputs": [],
   "source": [
    "tweets_sampled = tweets_df.sample(500)\n",
    "tweets_sampled = tweets_sampled.reset_index(drop=True)"
   ]
  },
  {
   "cell_type": "code",
   "execution_count": 10,
   "metadata": {},
   "outputs": [],
   "source": [
    "'''\n",
    "Loading Gensim and nltk libraries\n",
    "'''\n",
    "import gensim\n",
    "from gensim.utils import simple_preprocess\n",
    "from gensim.parsing.preprocessing import STOPWORDS\n",
    "from nltk.stem.porter import *\n",
    "import numpy as np\n",
    "np.random.seed(400)"
   ]
  },
  {
   "cell_type": "code",
   "execution_count": 11,
   "metadata": {},
   "outputs": [],
   "source": [
    "stemmer = PorterStemmer()"
   ]
  },
  {
   "cell_type": "code",
   "execution_count": 51,
   "metadata": {},
   "outputs": [
    {
     "name": "stderr",
     "output_type": "stream",
     "text": [
      "[nltk_data] Downloading package stopwords to C:\\Users\\Devina\n",
      "[nltk_data]     Parihar\\AppData\\Roaming\\nltk_data...\n",
      "[nltk_data]   Package stopwords is already up-to-date!\n"
     ]
    }
   ],
   "source": [
    "# Tokenize, stem and removing stopwords\n",
    "\n",
    "import nltk\n",
    "nltk.download('stopwords')\n",
    "\n",
    "stopwords = nltk.corpus.stopwords.words('english')\n",
    "stopwords.extend(['coronavirus', 'Koronavirus', 'trump', 'covid-19', 'corona', 'covid', \n",
    "                  'covid19', 'covd', 'virus', 'pandemic', 'chinese', 'china', 'wuhan'])\n",
    "\n",
    "\n",
    "def preprocess(text):\n",
    "    result = []\n",
    "    for token in gensim.utils.simple_preprocess(text):\n",
    "        if token not in stopwords:\n",
    "            result.append(stemmer.stem(token))\n",
    "    return result"
   ]
  },
  {
   "cell_type": "code",
   "execution_count": 88,
   "metadata": {},
   "outputs": [
    {
     "name": "stdout",
     "output_type": "stream",
     "text": [
      "This tweet throws an error: 🤦🏽‍♂️ \n",
      "This tweet throws an error:  :         …\n"
     ]
    }
   ],
   "source": [
    "from langdetect import detect\n",
    "\n",
    "processed_tweets = []\n",
    "indexesToRemove = []\n",
    "\n",
    "for index, tweet in enumerate(tweets_sampled.tweet.tolist()):\n",
    "    \n",
    "    try:\n",
    "        lang = detect(tweet)\n",
    "        if lang == 'en':\n",
    "            processed_tweets.append(preprocess(tweet))\n",
    "        if lang != 'en':\n",
    "            removeIndex = index\n",
    "            indexesToRemove.append(removeIndex)\n",
    "            \n",
    "    except:\n",
    "        removeIndex = index\n",
    "        indexesToRemove.append(removeIndex)\n",
    "        language = \"error\"\n",
    "        print(\"This tweet throws an error:\", tweet)\n",
    "        "
   ]
  },
  {
   "cell_type": "code",
   "execution_count": 89,
   "metadata": {},
   "outputs": [],
   "source": [
    "tweets_sampled_new = tweets_sampled.drop(tweets_sampled.index[indexesToRemove])\n"
   ]
  },
  {
   "cell_type": "code",
   "execution_count": 91,
   "metadata": {},
   "outputs": [
    {
     "data": {
      "text/plain": [
       "365"
      ]
     },
     "execution_count": 91,
     "metadata": {},
     "output_type": "execute_result"
    }
   ],
   "source": [
    "len(processed_tweets)"
   ]
  },
  {
   "cell_type": "code",
   "execution_count": 78,
   "metadata": {},
   "outputs": [],
   "source": [
    "dictionary = gensim.corpora.Dictionary(processed_tweets)"
   ]
  },
  {
   "cell_type": "code",
   "execution_count": 84,
   "metadata": {},
   "outputs": [],
   "source": [
    "'''\n",
    "Create the Bag-of-words model for each document i.e for each document we create a dictionary reporting how many\n",
    "words and how many times those words appear. Save this to 'bow_corpus'\n",
    "'''\n",
    "bow_corpus = [dictionary.doc2bow(tweet) for tweet in processed_tweets]"
   ]
  },
  {
   "cell_type": "code",
   "execution_count": 92,
   "metadata": {},
   "outputs": [],
   "source": [
    "# TESTING BIGRAMS\n",
    "\n",
    "def bigrams(words, bi_min=15):\n",
    "    bigram = gensim.models.Phrases(words)\n",
    "    bigram_model = gensim.models.phrases.Phraser(bigram)\n",
    "    return bigram_model\n",
    "\n",
    "bigram_model = bigrams(processed_tweets)\n",
    "bigram = [bigram_model[tweet] for tweet in processed_tweets]\n",
    "\n",
    "id2word = gensim.corpora.Dictionary(bigram)\n",
    "id2word.filter_extremes(no_below=10, no_above=0.35)\n",
    "id2word.compactify()\n",
    "\n",
    "corpus = [id2word.doc2bow(text) for text in bigram]"
   ]
  },
  {
   "cell_type": "code",
   "execution_count": 93,
   "metadata": {},
   "outputs": [
    {
     "data": {
      "text/plain": [
       "[(0,\n",
       "  '0.335*\"peopl\" + 0.178*\"go\" + 0.165*\"us\" + 0.107*\"global\" + 0.090*\"die\" + 0.056*\"world\" + 0.006*\"first\" + 0.005*\"still\" + 0.004*\"like\" + 0.004*\"new\"'),\n",
       " (1,\n",
       "  '0.157*\"case\" + 0.156*\"use\" + 0.147*\"test\" + 0.139*\"first\" + 0.135*\"spread\" + 0.131*\"death\" + 0.049*\"offici\" + 0.027*\"get\" + 0.005*\"one\" + 0.003*\"us\"'),\n",
       " (2,\n",
       "  '0.180*\"day\" + 0.177*\"one\" + 0.154*\"want\" + 0.146*\"like\" + 0.085*\"world\" + 0.058*\"spread\" + 0.056*\"countri\" + 0.044*\"get\" + 0.030*\"report\" + 0.008*\"first\"'),\n",
       " (3,\n",
       "  '0.157*\"new\" + 0.148*\"health\" + 0.142*\"outbreak\" + 0.113*\"break\" + 0.081*\"offici\" + 0.070*\"still\" + 0.069*\"case\" + 0.058*\"report\" + 0.043*\"like\" + 0.042*\"global\"'),\n",
       " (4,\n",
       "  '0.163*\"mask\" + 0.162*\"mani\" + 0.160*\"say\" + 0.125*\"start\" + 0.092*\"peopl\" + 0.078*\"countri\" + 0.063*\"get\" + 0.034*\"case\" + 0.033*\"die\" + 0.016*\"still\"')]"
      ]
     },
     "execution_count": 93,
     "metadata": {},
     "output_type": "execute_result"
    }
   ],
   "source": [
    "lda_model = gensim.models.LdaMulticore(corpus, num_topics = 5, id2word = id2word, passes = 10)\n",
    "\n",
    "lda_model.print_topics(5,num_words=10)"
   ]
  },
  {
   "cell_type": "code",
   "execution_count": 110,
   "metadata": {},
   "outputs": [
    {
     "data": {
      "text/plain": [
       "[0.07012172, 0.06666885, 0.066677675, 0.72986263, 0.06666914]"
      ]
     },
     "execution_count": 110,
     "metadata": {},
     "output_type": "execute_result"
    }
   ],
   "source": [
    "\n",
    "#for every english tweet, get the probability it belongs to any of the topics\n",
    "#save to a new training set\n",
    "\n",
    "train_probVectors = []\n",
    "\n",
    "for i in range(len(tweets_sampled_new)):\n",
    "    top_topics = lda_model.get_document_topics(corpus[i], minimum_probability=0.0)\n",
    "    topic_probabilities = [top_topics[i][1] for i in range(5)]\n",
    "    train_probVectors.append(topic_probabilities)\n"
   ]
  },
  {
   "cell_type": "code",
   "execution_count": null,
   "metadata": {},
   "outputs": [],
   "source": []
  },
  {
   "cell_type": "markdown",
   "metadata": {},
   "source": [
    "### TESTING LDA ALGORITHM"
   ]
  },
  {
   "cell_type": "code",
   "execution_count": 55,
   "metadata": {},
   "outputs": [],
   "source": [
    "# LDA multicore \n",
    "'''\n",
    "Train your lda model using gensim.models.LdaMulticore and save it to 'lda_model'\n",
    "'''\n",
    "lda_model = gensim.models.LdaMulticore(bow_corpus, num_topics = 5, id2word = dictionary, passes = 10)"
   ]
  },
  {
   "cell_type": "code",
   "execution_count": 56,
   "metadata": {},
   "outputs": [
    {
     "name": "stdout",
     "output_type": "stream",
     "text": [
      "Topic: 0 \n",
      "Words: 0.010*\"peopl\" + 0.008*\"outbreak\" + 0.008*\"amp\" + 0.006*\"one\" + 0.005*\"live\" + 0.005*\"world\" + 0.005*\"issu\" + 0.005*\"care\" + 0.004*\"call\" + 0.004*\"case\"\n",
      "\n",
      "\n",
      "Topic: 1 \n",
      "Words: 0.016*\"peopl\" + 0.010*\"break\" + 0.010*\"death\" + 0.008*\"outbreak\" + 0.007*\"case\" + 0.005*\"see\" + 0.005*\"new\" + 0.005*\"spread\" + 0.005*\"way\" + 0.005*\"someon\"\n",
      "\n",
      "\n",
      "Topic: 2 \n",
      "Words: 0.011*\"amp\" + 0.010*\"patient\" + 0.008*\"day\" + 0.008*\"case\" + 0.008*\"confirm\" + 0.008*\"peopl\" + 0.007*\"health\" + 0.007*\"korea\" + 0.006*\"citi\" + 0.005*\"break\"\n",
      "\n",
      "\n",
      "Topic: 3 \n",
      "Words: 0.008*\"report\" + 0.008*\"death\" + 0.008*\"case\" + 0.006*\"first\" + 0.006*\"us\" + 0.006*\"today\" + 0.006*\"like\" + 0.005*\"know\" + 0.005*\"wrong\" + 0.005*\"hubei\"\n",
      "\n",
      "\n",
      "Topic: 4 \n",
      "Words: 0.008*\"work\" + 0.007*\"spread\" + 0.006*\"prevent\" + 0.006*\"peopl\" + 0.005*\"outbreak\" + 0.005*\"market\" + 0.005*\"vaccin\" + 0.004*\"stop\" + 0.004*\"new\" + 0.004*\"could\"\n",
      "\n",
      "\n"
     ]
    }
   ],
   "source": [
    "for idx, topic in lda_model.print_topics(-1):\n",
    "    print(\"Topic: {} \\nWords: {}\".format(idx, topic ))\n",
    "    print(\"\\n\")"
   ]
  },
  {
   "cell_type": "code",
   "execution_count": null,
   "metadata": {},
   "outputs": [],
   "source": [
    "import pyLDAvis\n",
    "import pyLDAvis.gensim\n",
    "for_viz = pyLDAvis.gensim.prepare(lda_model, bow_corpus, dictionary)\n",
    "pyLDAvis.display(for_viz)"
   ]
  },
  {
   "cell_type": "markdown",
   "metadata": {},
   "source": [
    "### TESTING NMF ALGORITHM"
   ]
  },
  {
   "cell_type": "code",
   "execution_count": 94,
   "metadata": {},
   "outputs": [
    {
     "name": "stderr",
     "output_type": "stream",
     "text": [
      "[nltk_data] Downloading package stopwords to C:\\Users\\Devina\n",
      "[nltk_data]     Parihar\\AppData\\Roaming\\nltk_data...\n",
      "[nltk_data]   Package stopwords is already up-to-date!\n",
      "C:\\Anaconda\\lib\\site-packages\\sklearn\\feature_extraction\\text.py:300: UserWarning: Your stop_words may be inconsistent with your preprocessing. Tokenizing the stop words generated tokens ['19', 'koronavirus'] not in stop_words.\n",
      "  'stop_words.' % sorted(inconsistent))\n"
     ]
    }
   ],
   "source": [
    "from sklearn.decomposition import NMF\n",
    "from sklearn.feature_extraction.text import TfidfVectorizer\n",
    "\n",
    "import nltk\n",
    "nltk.download('stopwords')\n",
    "\n",
    "stopwords = nltk.corpus.stopwords.words('english')\n",
    "stopwords.extend(['coronavirus', 'Koronavirus', 'trump', 'covid-19', 'corona', 'covid', \n",
    "                  'covid19', 'covd', 'virus', 'pandemic']) #APPEND WHATEVER \"STOPWORDS\" NEEDED\n",
    "\n",
    "tfidf_vectorizer = TfidfVectorizer(stop_words= stopwords)\n",
    "tfidf = tfidf_vectorizer.fit_transform(tweets_sampled_new['tweet'])\n",
    "#tfidf_feature_names = tfidf_vectorizer.get_feature_names()"
   ]
  },
  {
   "cell_type": "code",
   "execution_count": 95,
   "metadata": {},
   "outputs": [],
   "source": [
    "nmf = NMF(n_components= 5, random_state=1, alpha=.1, l1_ratio=.5, init='nndsvd').fit(tfidf)"
   ]
  },
  {
   "cell_type": "code",
   "execution_count": 97,
   "metadata": {},
   "outputs": [],
   "source": [
    "topic_values = nmf.transform(tfidf)\n",
    "tweets_sampled_new['Topic'] = topic_values.argmax(axis=1)"
   ]
  },
  {
   "cell_type": "code",
   "execution_count": 98,
   "metadata": {},
   "outputs": [
    {
     "name": "stdout",
     "output_type": "stream",
     "text": [
      "Top 10 words for topic #0:\n",
      "['health', 'province', '150', 'hubei', 'reports', 'breaking', 'cases', 'deaths', 'new', 'china']\n",
      "\n",
      "\n",
      "Top 10 words for topic #1:\n",
      "['many', 'little', 'white', 'say', 'bad', 'anyways', 'overheard', 'girl', 'starbucks', 'ppl']\n",
      "\n",
      "\n",
      "Top 10 words for topic #2:\n",
      "['tangshan', 'government', 'via', 'people', 'reason', 'proximity', 'illness', 'regardless', 'racialised', 'chinese']\n",
      "\n",
      "\n",
      "Top 10 words for topic #3:\n",
      "['flying', 'wednesday', 'gov', 'personnel', 'wait', 'boot', 'iran', 'hiding', 'save', 'us']\n",
      "\n",
      "\n",
      "Top 10 words for topic #4:\n",
      "['case', 'fr', 'manila', 'capital', 'approximately', 'mins', 'hospital', 'san', 'lazaro', 'away']\n",
      "\n",
      "\n"
     ]
    }
   ],
   "source": [
    "for i,topic in enumerate(nmf.components_):\n",
    "    print(f'Top 10 words for topic #{i}:')\n",
    "    print([tfidf_vectorizer.get_feature_names()[i] for i in topic.argsort()[-10:]])\n",
    "    print('\\n')"
   ]
  },
  {
   "cell_type": "code",
   "execution_count": null,
   "metadata": {},
   "outputs": [],
   "source": []
  },
  {
   "cell_type": "code",
   "execution_count": null,
   "metadata": {},
   "outputs": [],
   "source": []
  }
 ],
 "metadata": {
  "kernelspec": {
   "display_name": "Python 3",
   "language": "python",
   "name": "python3"
  },
  "language_info": {
   "codemirror_mode": {
    "name": "ipython",
    "version": 3
   },
   "file_extension": ".py",
   "mimetype": "text/x-python",
   "name": "python",
   "nbconvert_exporter": "python",
   "pygments_lexer": "ipython3",
   "version": "3.7.1"
  }
 },
 "nbformat": 4,
 "nbformat_minor": 2
}
