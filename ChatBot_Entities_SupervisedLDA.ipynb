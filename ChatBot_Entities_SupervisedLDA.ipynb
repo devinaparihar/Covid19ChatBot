{
  "nbformat": 4,
  "nbformat_minor": 0,
  "metadata": {
    "colab": {
      "name": "ChatBot_Entities_SupervisedLDA.ipynb",
      "provenance": [],
      "collapsed_sections": []
    },
    "kernelspec": {
      "name": "python3",
      "display_name": "Python 3"
    }
  },
  "cells": [
    {
      "cell_type": "code",
      "metadata": {
        "id": "TvT6GA3TWy2N",
        "colab_type": "code",
        "colab": {}
      },
      "source": [
        "import pandas as pd\n",
        "import numpy as np"
      ],
      "execution_count": 0,
      "outputs": []
    },
    {
      "cell_type": "code",
      "metadata": {
        "id": "-Q3mF5EFXGAY",
        "colab_type": "code",
        "outputId": "8ff483e1-54a4-470d-a20b-31ba1cc91fa5",
        "colab": {
          "base_uri": "https://localhost:8080/",
          "height": 167
        }
      },
      "source": [
        "!pip install babelpy\n",
        "from babelpy import babelfy"
      ],
      "execution_count": 0,
      "outputs": [
        {
          "output_type": "stream",
          "text": [
            "Collecting babelpy\n",
            "  Downloading https://files.pythonhosted.org/packages/09/03/93430ae2c3011b9eb0ae179d58612be8e094e04e920686a1ffb7740e27ce/BabelPy-1.0.1.tar.gz\n",
            "Building wheels for collected packages: babelpy\n",
            "  Building wheel for babelpy (setup.py) ... \u001b[?25l\u001b[?25hdone\n",
            "  Created wheel for babelpy: filename=BabelPy-1.0.1-cp36-none-any.whl size=9723 sha256=963059526d9bca859cd8d8c4a69c1e7f8bbd04980dc700903040c9ed64ecd6ce\n",
            "  Stored in directory: /root/.cache/pip/wheels/c9/53/db/2b25b9bdc97574bd1a076b31d0a8ba8f8ce0969e247debcc5b\n",
            "Successfully built babelpy\n",
            "Installing collected packages: babelpy\n",
            "Successfully installed babelpy-1.0.1\n"
          ],
          "name": "stdout"
        }
      ]
    },
    {
      "cell_type": "code",
      "metadata": {
        "id": "m-R7iJ6crQ8p",
        "colab_type": "code",
        "outputId": "dcd2e6be-0ecc-4c87-f7e7-8f241fe41fb5",
        "colab": {
          "base_uri": "https://localhost:8080/",
          "height": 52
        }
      },
      "source": [
        "import nltk\n",
        "import gensim\n",
        "from gensim.utils import simple_preprocess\n",
        "nltk.download('stopwords')\n",
        "\n",
        "stopwords = nltk.corpus.stopwords.words('english')\n",
        "stopwords.extend(['coronavirus', 'Koronavirus', 'trump', 'covid-19', 'corona', 'covid', \n",
        "                  'covid19', 'covd', 'virus', 'pandemic', 'chinese', 'china', 'wuhan', 'ncov', 'Kungflu',\n",
        "                  'chinavirus', 'fuck', 'fuckers', 'covidiot'])\n",
        "\n",
        "\n",
        "def preprocess(text):\n",
        "    result = []\n",
        "    for token in gensim.utils.simple_preprocess(text):\n",
        "        if token not in stopwords:\n",
        "            result.append(token)\n",
        "\n",
        "    combined_result = ' '.join(result) \n",
        "    return combined_result\n",
        "\n",
        "def preprocess_v2(text):\n",
        "    result = []\n",
        "    for token in gensim.utils.simple_preprocess(text):\n",
        "        if token not in stopwords:\n",
        "            result.append(token)\n",
        "            \n",
        "    return result"
      ],
      "execution_count": 73,
      "outputs": [
        {
          "output_type": "stream",
          "text": [
            "[nltk_data] Downloading package stopwords to /root/nltk_data...\n",
            "[nltk_data]   Package stopwords is already up-to-date!\n"
          ],
          "name": "stdout"
        }
      ]
    },
    {
      "cell_type": "code",
      "metadata": {
        "id": "uwP8RAc4bZuw",
        "colab_type": "code",
        "colab": {}
      },
      "source": [
        "df = pd.read_pickle(\"dfnmf500k.pkl\")\n",
        "df1000 = df.sample(1000)"
      ],
      "execution_count": 0,
      "outputs": []
    },
    {
      "cell_type": "code",
      "metadata": {
        "id": "KFSfd62abqpr",
        "colab_type": "code",
        "colab": {}
      },
      "source": [
        "df1000['tweet'] = df1000['tweet'].apply(lambda x: preprocess(x))"
      ],
      "execution_count": 0,
      "outputs": []
    },
    {
      "cell_type": "code",
      "metadata": {
        "id": "cqcnNP0FtoHo",
        "colab_type": "code",
        "colab": {}
      },
      "source": [
        "df994 = df1000.sample(994)"
      ],
      "execution_count": 0,
      "outputs": []
    },
    {
      "cell_type": "code",
      "metadata": {
        "id": "bP-pHR6Dv6j-",
        "colab_type": "code",
        "outputId": "bcab15a1-179d-4a80-9919-931013da24ec",
        "colab": {
          "base_uri": "https://localhost:8080/",
          "height": 33
        }
      },
      "source": [
        "text = df1000['tweet'].tolist()[999]\n",
        "text"
      ],
      "execution_count": 0,
      "outputs": [
        {
          "output_type": "execute_result",
          "data": {
            "text/plain": [
              "'working closely others outbreak people good recovery'"
            ]
          },
          "metadata": {
            "tags": []
          },
          "execution_count": 24
        }
      ]
    },
    {
      "cell_type": "code",
      "metadata": {
        "id": "5hFQGw0YXbjo",
        "colab_type": "code",
        "colab": {}
      },
      "source": [
        "#from babelfy import BabelfyClient\n",
        "\n",
        "\n",
        "# Instantiate BabelFy client\n",
        "\n",
        "API_KEY  = 'ddacf5fe-702e-4b24-b6b8-95a4806d8acc'\n",
        "\n",
        "params = dict()\n",
        "params['lang'] = 'EN'\n",
        "params['cands'] = 'TOP'\n",
        "babel_client = babelfy.BabelfyClient(API_KEY, params)"
      ],
      "execution_count": 0,
      "outputs": []
    },
    {
      "cell_type": "code",
      "metadata": {
        "id": "vmwU6uUQ4yjc",
        "colab_type": "code",
        "colab": {}
      },
      "source": [
        "babel_client.babelfy(text)\n",
        "entitiesDictList = babel_client.entities"
      ],
      "execution_count": 0,
      "outputs": []
    },
    {
      "cell_type": "code",
      "metadata": {
        "id": "9WuKk0wQ43BA",
        "colab_type": "code",
        "outputId": "fa85febf-8dd7-4691-d197-ffd1e1ac7808",
        "colab": {
          "base_uri": "https://localhost:8080/",
          "height": 1000
        }
      },
      "source": [
        "entitiesDictList"
      ],
      "execution_count": 0,
      "outputs": [
        {
          "output_type": "execute_result",
          "data": {
            "text/plain": [
              "[{'BabelNetURL': 'http://babelnet.org/rdf/s00095812v',\n",
              "  'DBpediaURL': '',\n",
              "  'babelSynsetID': 'bn:00095812v',\n",
              "  'charFragment': {'end': 6, 'start': 0},\n",
              "  'coherenceScore': 0.0,\n",
              "  'end': 6,\n",
              "  'globalScore': 0.0,\n",
              "  'isEntity': True,\n",
              "  'score': 0.0,\n",
              "  'source': 'MCS',\n",
              "  'start': 0,\n",
              "  'text': 'working',\n",
              "  'tokenFragment': {'end': 0, 'start': 0}},\n",
              " {'BabelNetURL': 'http://babelnet.org/rdf/s00114751r',\n",
              "  'DBpediaURL': '',\n",
              "  'babelSynsetID': 'bn:00114751r',\n",
              "  'charFragment': {'end': 14, 'start': 8},\n",
              "  'coherenceScore': 0.5,\n",
              "  'end': 14,\n",
              "  'globalScore': 0.16666666666666666,\n",
              "  'isEntity': True,\n",
              "  'score': 1.0,\n",
              "  'source': 'BABELFY',\n",
              "  'start': 8,\n",
              "  'text': 'closely',\n",
              "  'tokenFragment': {'end': 1, 'start': 1}},\n",
              " {'BabelNetURL': 'http://babelnet.org/rdf/s00031495n',\n",
              "  'DBpediaURL': 'http://dbpedia.org/resource/Outbreak',\n",
              "  'babelSynsetID': 'bn:00031495n',\n",
              "  'charFragment': {'end': 30, 'start': 23},\n",
              "  'coherenceScore': 0.0,\n",
              "  'end': 30,\n",
              "  'globalScore': 0.0,\n",
              "  'isEntity': True,\n",
              "  'score': 0.0,\n",
              "  'source': 'MCS',\n",
              "  'start': 23,\n",
              "  'text': 'outbreak',\n",
              "  'tokenFragment': {'end': 3, 'start': 3}},\n",
              " {'BabelNetURL': 'http://babelnet.org/rdf/s00061450n',\n",
              "  'DBpediaURL': 'http://dbpedia.org/resource/People',\n",
              "  'babelSynsetID': 'bn:00061450n',\n",
              "  'charFragment': {'end': 37, 'start': 32},\n",
              "  'coherenceScore': 0.0,\n",
              "  'end': 37,\n",
              "  'globalScore': 0.0,\n",
              "  'isEntity': True,\n",
              "  'score': 0.0,\n",
              "  'source': 'MCS',\n",
              "  'start': 32,\n",
              "  'text': 'people',\n",
              "  'tokenFragment': {'end': 4, 'start': 4}},\n",
              " {'BabelNetURL': 'http://babelnet.org/rdf/s00103672a',\n",
              "  'DBpediaURL': '',\n",
              "  'babelSynsetID': 'bn:00103672a',\n",
              "  'charFragment': {'end': 42, 'start': 39},\n",
              "  'coherenceScore': 0.0,\n",
              "  'end': 42,\n",
              "  'globalScore': 0.0,\n",
              "  'isEntity': True,\n",
              "  'score': 0.0,\n",
              "  'source': 'MCS',\n",
              "  'start': 39,\n",
              "  'text': 'good',\n",
              "  'tokenFragment': {'end': 5, 'start': 5}},\n",
              " {'BabelNetURL': 'http://babelnet.org/rdf/s00066597n',\n",
              "  'DBpediaURL': '',\n",
              "  'babelSynsetID': 'bn:00066597n',\n",
              "  'charFragment': {'end': 51, 'start': 44},\n",
              "  'coherenceScore': 0.0,\n",
              "  'end': 51,\n",
              "  'globalScore': 0.0,\n",
              "  'isEntity': True,\n",
              "  'score': 0.0,\n",
              "  'source': 'MCS',\n",
              "  'start': 44,\n",
              "  'text': 'recovery',\n",
              "  'tokenFragment': {'end': 6, 'start': 6}}]"
            ]
          },
          "metadata": {
            "tags": []
          },
          "execution_count": 30
        }
      ]
    },
    {
      "cell_type": "code",
      "metadata": {
        "id": "MzB6XW3QYO-3",
        "colab_type": "code",
        "colab": {}
      },
      "source": [
        "def babelfyTweet(x):\n",
        "\n",
        "  \n",
        "  # Babelfy sentence\n",
        "  babel_client.babelfy(x)\n",
        "\n",
        "  # Get entity data\n",
        "  #print(babel_client.entities)\n",
        "  try:\n",
        "    #entitiesFlag = True\n",
        "    #print('here')\n",
        "    entitiesDictList = babel_client.entities\n",
        "    #print(babel_client.entities)\n",
        "  except AttributeError:\n",
        "    (\"AttributeError for review: \"+x)\n",
        "    return(x)\n",
        "\n",
        "  entitiesToAdd = []\n",
        "\n",
        "  for entDict in entitiesDictList:\n",
        "    entitiesToAdd.append(entDict['text'])\n",
        "\n",
        "\n",
        "  return(entitiesToAdd)"
      ],
      "execution_count": 0,
      "outputs": []
    },
    {
      "cell_type": "code",
      "metadata": {
        "id": "gHyEzUslYKUc",
        "colab_type": "code",
        "colab": {}
      },
      "source": [
        "df['Entities'] = df994.tweet.apply(babelfyTweet)"
      ],
      "execution_count": 0,
      "outputs": []
    },
    {
      "cell_type": "code",
      "metadata": {
        "id": "pfM6AR0yAi_-",
        "colab_type": "code",
        "colab": {}
      },
      "source": [
        "df994_labeled = pd.merge(df994, df['Entities'], left_index=True, right_index=True)"
      ],
      "execution_count": 0,
      "outputs": []
    },
    {
      "cell_type": "code",
      "metadata": {
        "id": "Dpf4Y59bAmQ3",
        "colab_type": "code",
        "colab": {}
      },
      "source": [
        "df994_labeled.to_pickle(\"df994_labeled.pkl\")"
      ],
      "execution_count": 0,
      "outputs": []
    },
    {
      "cell_type": "code",
      "metadata": {
        "id": "Jd0Fsdp8OuQn",
        "colab_type": "code",
        "colab": {}
      },
      "source": [
        "df994_labeled = pd.read_pickle(\"df994_labeled.pkl\")"
      ],
      "execution_count": 0,
      "outputs": []
    },
    {
      "cell_type": "code",
      "metadata": {
        "id": "o2wq-7RMR-i4",
        "colab_type": "code",
        "colab": {}
      },
      "source": [
        "allEntities = []\n",
        "\n",
        "for EList in df994_labeled.Entities.tolist():\n",
        "  allEntities.extend(EList)\n"
      ],
      "execution_count": 0,
      "outputs": []
    },
    {
      "cell_type": "code",
      "metadata": {
        "id": "pLbLS9eJSjMn",
        "colab_type": "code",
        "outputId": "b53c9282-a0b4-4973-8143-a36f0f1e4d1b",
        "colab": {
          "base_uri": "https://localhost:8080/",
          "height": 35
        }
      },
      "source": [
        "print(len(allEntities))\n",
        "words_dist = nltk.FreqDist(allEntities)"
      ],
      "execution_count": 6,
      "outputs": [
        {
          "output_type": "stream",
          "text": [
            "7965\n"
          ],
          "name": "stdout"
        }
      ]
    },
    {
      "cell_type": "code",
      "metadata": {
        "id": "UrHjSj56TSDj",
        "colab_type": "code",
        "colab": {}
      },
      "source": [
        "top_N = 50\n",
        "\n",
        "rslt = pd.DataFrame(words_dist.most_common(top_N), columns=['Word', 'Frequency']).set_index('Word')"
      ],
      "execution_count": 0,
      "outputs": []
    },
    {
      "cell_type": "code",
      "metadata": {
        "id": "bSjwXb_-Tamd",
        "colab_type": "code",
        "outputId": "9230014f-acc1-4542-9249-8ec963062fbf",
        "colab": {
          "base_uri": "https://localhost:8080/",
          "height": 692
        }
      },
      "source": [
        "import matplotlib\n",
        "import matplotlib.pyplot as plt\n",
        "\n",
        "matplotlib.style.use('seaborn-pastel')\n",
        "\n",
        "rslt.plot.bar(rot=45, figsize = (20,10), title = 'Top 50 Entities')"
      ],
      "execution_count": 100,
      "outputs": [
        {
          "output_type": "execute_result",
          "data": {
            "text/plain": [
              "<matplotlib.axes._subplots.AxesSubplot at 0x7fb3a4f0eac8>"
            ]
          },
          "metadata": {
            "tags": []
          },
          "execution_count": 100
        },
        {
          "output_type": "display_data",
          "data": {
            "image/png": "[encoded data removed]",
            "text/plain": [
              "<Figure size 1440x720 with 1 Axes>"
            ]
          },
          "metadata": {
            "tags": []
          }
        }
      ]
    },
    {
      "cell_type": "code",
      "metadata": {
        "id": "62etxX22Ubgl",
        "colab_type": "code",
        "outputId": "49ddc4ed-c513-4ee6-9681-e4f039ad7963",
        "colab": {
          "base_uri": "https://localhost:8080/",
          "height": 35
        }
      },
      "source": [
        "words_dist['deaths']"
      ],
      "execution_count": 16,
      "outputs": [
        {
          "output_type": "execute_result",
          "data": {
            "text/plain": [
              "17"
            ]
          },
          "metadata": {
            "tags": []
          },
          "execution_count": 16
        }
      ]
    },
    {
      "cell_type": "code",
      "metadata": {
        "id": "FQ8p2w35Uwgu",
        "colab_type": "code",
        "outputId": "ada8a45d-da39-4af5-c2bd-39176dd32693",
        "colab": {
          "base_uri": "https://localhost:8080/",
          "height": 1000
        }
      },
      "source": [
        "rslt"
      ],
      "execution_count": 11,
      "outputs": [
        {
          "output_type": "execute_result",
          "data": {
            "text/html": [
              "<div>\n",
              "<style scoped>\n",
              "    .dataframe tbody tr th:only-of-type {\n",
              "        vertical-align: middle;\n",
              "    }\n",
              "\n",
              "    .dataframe tbody tr th {\n",
              "        vertical-align: top;\n",
              "    }\n",
              "\n",
              "    .dataframe thead th {\n",
              "        text-align: right;\n",
              "    }\n",
              "</style>\n",
              "<table border=\"1\" class=\"dataframe\">\n",
              "  <thead>\n",
              "    <tr style=\"text-align: right;\">\n",
              "      <th></th>\n",
              "      <th>Frequency</th>\n",
              "    </tr>\n",
              "    <tr>\n",
              "      <th>Word</th>\n",
              "      <th></th>\n",
              "    </tr>\n",
              "  </thead>\n",
              "  <tbody>\n",
              "    <tr>\n",
              "      <th>people</th>\n",
              "      <td>79</td>\n",
              "    </tr>\n",
              "    <tr>\n",
              "      <th>cases</th>\n",
              "      <td>66</td>\n",
              "    </tr>\n",
              "    <tr>\n",
              "      <th>new</th>\n",
              "      <td>63</td>\n",
              "    </tr>\n",
              "    <tr>\n",
              "      <th>outbreak</th>\n",
              "      <td>61</td>\n",
              "    </tr>\n",
              "    <tr>\n",
              "      <th>breaking</th>\n",
              "      <td>38</td>\n",
              "    </tr>\n",
              "    <tr>\n",
              "      <th>health</th>\n",
              "      <td>36</td>\n",
              "    </tr>\n",
              "    <tr>\n",
              "      <th>world</th>\n",
              "      <td>35</td>\n",
              "    </tr>\n",
              "    <tr>\n",
              "      <th>amp</th>\n",
              "      <td>33</td>\n",
              "    </tr>\n",
              "    <tr>\n",
              "      <th>says</th>\n",
              "      <td>31</td>\n",
              "    </tr>\n",
              "    <tr>\n",
              "      <th>confirmed</th>\n",
              "      <td>30</td>\n",
              "    </tr>\n",
              "    <tr>\n",
              "      <th>president</th>\n",
              "      <td>28</td>\n",
              "    </tr>\n",
              "    <tr>\n",
              "      <th>today</th>\n",
              "      <td>28</td>\n",
              "    </tr>\n",
              "    <tr>\n",
              "      <th>government</th>\n",
              "      <td>26</td>\n",
              "    </tr>\n",
              "    <tr>\n",
              "      <th>news</th>\n",
              "      <td>25</td>\n",
              "    </tr>\n",
              "    <tr>\n",
              "      <th>spread</th>\n",
              "      <td>25</td>\n",
              "    </tr>\n",
              "    <tr>\n",
              "      <th>said</th>\n",
              "      <td>23</td>\n",
              "    </tr>\n",
              "    <tr>\n",
              "      <th>time</th>\n",
              "      <td>22</td>\n",
              "    </tr>\n",
              "    <tr>\n",
              "      <th>think</th>\n",
              "      <td>21</td>\n",
              "    </tr>\n",
              "    <tr>\n",
              "      <th>cdc</th>\n",
              "      <td>21</td>\n",
              "    </tr>\n",
              "    <tr>\n",
              "      <th>positive</th>\n",
              "      <td>20</td>\n",
              "    </tr>\n",
              "    <tr>\n",
              "      <th>americans</th>\n",
              "      <td>20</td>\n",
              "    </tr>\n",
              "    <tr>\n",
              "      <th>really</th>\n",
              "      <td>19</td>\n",
              "    </tr>\n",
              "    <tr>\n",
              "      <th>public</th>\n",
              "      <td>19</td>\n",
              "    </tr>\n",
              "    <tr>\n",
              "      <th>case</th>\n",
              "      <td>18</td>\n",
              "    </tr>\n",
              "    <tr>\n",
              "      <th>american</th>\n",
              "      <td>18</td>\n",
              "    </tr>\n",
              "    <tr>\n",
              "      <th>death</th>\n",
              "      <td>18</td>\n",
              "    </tr>\n",
              "    <tr>\n",
              "      <th>pence</th>\n",
              "      <td>17</td>\n",
              "    </tr>\n",
              "    <tr>\n",
              "      <th>home</th>\n",
              "      <td>17</td>\n",
              "    </tr>\n",
              "    <tr>\n",
              "      <th>country</th>\n",
              "      <td>17</td>\n",
              "    </tr>\n",
              "    <tr>\n",
              "      <th>administration</th>\n",
              "      <td>17</td>\n",
              "    </tr>\n",
              "    <tr>\n",
              "      <th>social</th>\n",
              "      <td>17</td>\n",
              "    </tr>\n",
              "    <tr>\n",
              "      <th>deaths</th>\n",
              "      <td>17</td>\n",
              "    </tr>\n",
              "    <tr>\n",
              "      <th>great</th>\n",
              "      <td>16</td>\n",
              "    </tr>\n",
              "    <tr>\n",
              "      <th>see</th>\n",
              "      <td>16</td>\n",
              "    </tr>\n",
              "    <tr>\n",
              "      <th>year</th>\n",
              "      <td>16</td>\n",
              "    </tr>\n",
              "    <tr>\n",
              "      <th>keep</th>\n",
              "      <td>16</td>\n",
              "    </tr>\n",
              "    <tr>\n",
              "      <th>state</th>\n",
              "      <td>16</td>\n",
              "    </tr>\n",
              "    <tr>\n",
              "      <th>days</th>\n",
              "      <td>16</td>\n",
              "    </tr>\n",
              "    <tr>\n",
              "      <th>global</th>\n",
              "      <td>15</td>\n",
              "    </tr>\n",
              "    <tr>\n",
              "      <th>working</th>\n",
              "      <td>15</td>\n",
              "    </tr>\n",
              "    <tr>\n",
              "      <th>testing</th>\n",
              "      <td>15</td>\n",
              "    </tr>\n",
              "    <tr>\n",
              "      <th>way</th>\n",
              "      <td>15</td>\n",
              "    </tr>\n",
              "    <tr>\n",
              "      <th>help</th>\n",
              "      <td>15</td>\n",
              "    </tr>\n",
              "    <tr>\n",
              "      <th>latest</th>\n",
              "      <td>15</td>\n",
              "    </tr>\n",
              "    <tr>\n",
              "      <th>hospital</th>\n",
              "      <td>15</td>\n",
              "    </tr>\n",
              "    <tr>\n",
              "      <th>travel</th>\n",
              "      <td>15</td>\n",
              "    </tr>\n",
              "    <tr>\n",
              "      <th>tested</th>\n",
              "      <td>14</td>\n",
              "    </tr>\n",
              "    <tr>\n",
              "      <th>masks</th>\n",
              "      <td>14</td>\n",
              "    </tr>\n",
              "    <tr>\n",
              "      <th>stay</th>\n",
              "      <td>14</td>\n",
              "    </tr>\n",
              "    <tr>\n",
              "      <th>want</th>\n",
              "      <td>14</td>\n",
              "    </tr>\n",
              "    <tr>\n",
              "      <th>emergency</th>\n",
              "      <td>14</td>\n",
              "    </tr>\n",
              "    <tr>\n",
              "      <th>mask</th>\n",
              "      <td>14</td>\n",
              "    </tr>\n",
              "    <tr>\n",
              "      <th>video</th>\n",
              "      <td>13</td>\n",
              "    </tr>\n",
              "    <tr>\n",
              "      <th>briefing</th>\n",
              "      <td>13</td>\n",
              "    </tr>\n",
              "    <tr>\n",
              "      <th>number</th>\n",
              "      <td>13</td>\n",
              "    </tr>\n",
              "    <tr>\n",
              "      <th>know</th>\n",
              "      <td>13</td>\n",
              "    </tr>\n",
              "    <tr>\n",
              "      <th>update</th>\n",
              "      <td>13</td>\n",
              "    </tr>\n",
              "    <tr>\n",
              "      <th>patients</th>\n",
              "      <td>13</td>\n",
              "    </tr>\n",
              "    <tr>\n",
              "      <th>medical</th>\n",
              "      <td>13</td>\n",
              "    </tr>\n",
              "    <tr>\n",
              "      <th>good</th>\n",
              "      <td>13</td>\n",
              "    </tr>\n",
              "  </tbody>\n",
              "</table>\n",
              "</div>"
            ],
            "text/plain": [
              "                Frequency\n",
              "Word                     \n",
              "people                 79\n",
              "cases                  66\n",
              "new                    63\n",
              "outbreak               61\n",
              "breaking               38\n",
              "health                 36\n",
              "world                  35\n",
              "amp                    33\n",
              "says                   31\n",
              "confirmed              30\n",
              "president              28\n",
              "today                  28\n",
              "government             26\n",
              "news                   25\n",
              "spread                 25\n",
              "said                   23\n",
              "time                   22\n",
              "think                  21\n",
              "cdc                    21\n",
              "positive               20\n",
              "americans              20\n",
              "really                 19\n",
              "public                 19\n",
              "case                   18\n",
              "american               18\n",
              "death                  18\n",
              "pence                  17\n",
              "home                   17\n",
              "country                17\n",
              "administration         17\n",
              "social                 17\n",
              "deaths                 17\n",
              "great                  16\n",
              "see                    16\n",
              "year                   16\n",
              "keep                   16\n",
              "state                  16\n",
              "days                   16\n",
              "global                 15\n",
              "working                15\n",
              "testing                15\n",
              "way                    15\n",
              "help                   15\n",
              "latest                 15\n",
              "hospital               15\n",
              "travel                 15\n",
              "tested                 14\n",
              "masks                  14\n",
              "stay                   14\n",
              "want                   14\n",
              "emergency              14\n",
              "mask                   14\n",
              "video                  13\n",
              "briefing               13\n",
              "number                 13\n",
              "know                   13\n",
              "update                 13\n",
              "patients               13\n",
              "medical                13\n",
              "good                   13"
            ]
          },
          "metadata": {
            "tags": []
          },
          "execution_count": 11
        }
      ]
    },
    {
      "cell_type": "markdown",
      "metadata": {
        "id": "7ynmRsDyBemi",
        "colab_type": "text"
      },
      "source": [
        "Looking into grouping labels with SPACY library similarity functions"
      ]
    },
    {
      "cell_type": "code",
      "metadata": {
        "id": "DeGu6NX1YBRb",
        "colab_type": "code",
        "colab": {
          "base_uri": "https://localhost:8080/",
          "height": 446
        },
        "outputId": "54842c90-2922-40bc-ca88-28c40c8087ab"
      },
      "source": [
        "!python3 -m spacy download en_core_web_lg"
      ],
      "execution_count": 104,
      "outputs": [
        {
          "output_type": "stream",
          "text": [
            "Requirement already satisfied: en_core_web_lg==2.2.5 from https://github.com/explosion/spacy-models/releases/download/en_core_web_lg-2.2.5/en_core_web_lg-2.2.5.tar.gz#egg=en_core_web_lg==2.2.5 in /usr/local/lib/python3.6/dist-packages (2.2.5)\n",
            "Requirement already satisfied: spacy>=2.2.2 in /usr/local/lib/python3.6/dist-packages (from en_core_web_lg==2.2.5) (2.2.4)\n",
            "Requirement already satisfied: tqdm<5.0.0,>=4.38.0 in /usr/local/lib/python3.6/dist-packages (from spacy>=2.2.2->en_core_web_lg==2.2.5) (4.41.1)\n",
            "Requirement already satisfied: preshed<3.1.0,>=3.0.2 in /usr/local/lib/python3.6/dist-packages (from spacy>=2.2.2->en_core_web_lg==2.2.5) (3.0.2)\n",
            "Requirement already satisfied: srsly<1.1.0,>=1.0.2 in /usr/local/lib/python3.6/dist-packages (from spacy>=2.2.2->en_core_web_lg==2.2.5) (1.0.2)\n",
            "Requirement already satisfied: catalogue<1.1.0,>=0.0.7 in /usr/local/lib/python3.6/dist-packages (from spacy>=2.2.2->en_core_web_lg==2.2.5) (1.0.0)\n",
            "Requirement already satisfied: cymem<2.1.0,>=2.0.2 in /usr/local/lib/python3.6/dist-packages (from spacy>=2.2.2->en_core_web_lg==2.2.5) (2.0.3)\n",
            "Requirement already satisfied: plac<1.2.0,>=0.9.6 in /usr/local/lib/python3.6/dist-packages (from spacy>=2.2.2->en_core_web_lg==2.2.5) (1.1.3)\n",
            "Requirement already satisfied: numpy>=1.15.0 in /usr/local/lib/python3.6/dist-packages (from spacy>=2.2.2->en_core_web_lg==2.2.5) (1.18.4)\n",
            "Requirement already satisfied: setuptools in /usr/local/lib/python3.6/dist-packages (from spacy>=2.2.2->en_core_web_lg==2.2.5) (46.1.3)\n",
            "Requirement already satisfied: requests<3.0.0,>=2.13.0 in /usr/local/lib/python3.6/dist-packages (from spacy>=2.2.2->en_core_web_lg==2.2.5) (2.23.0)\n",
            "Requirement already satisfied: wasabi<1.1.0,>=0.4.0 in /usr/local/lib/python3.6/dist-packages (from spacy>=2.2.2->en_core_web_lg==2.2.5) (0.6.0)\n",
            "Requirement already satisfied: murmurhash<1.1.0,>=0.28.0 in /usr/local/lib/python3.6/dist-packages (from spacy>=2.2.2->en_core_web_lg==2.2.5) (1.0.2)\n",
            "Requirement already satisfied: blis<0.5.0,>=0.4.0 in /usr/local/lib/python3.6/dist-packages (from spacy>=2.2.2->en_core_web_lg==2.2.5) (0.4.1)\n",
            "Requirement already satisfied: thinc==7.4.0 in /usr/local/lib/python3.6/dist-packages (from spacy>=2.2.2->en_core_web_lg==2.2.5) (7.4.0)\n",
            "Requirement already satisfied: importlib-metadata>=0.20; python_version < \"3.8\" in /usr/local/lib/python3.6/dist-packages (from catalogue<1.1.0,>=0.0.7->spacy>=2.2.2->en_core_web_lg==2.2.5) (1.6.0)\n",
            "Requirement already satisfied: chardet<4,>=3.0.2 in /usr/local/lib/python3.6/dist-packages (from requests<3.0.0,>=2.13.0->spacy>=2.2.2->en_core_web_lg==2.2.5) (3.0.4)\n",
            "Requirement already satisfied: certifi>=2017.4.17 in /usr/local/lib/python3.6/dist-packages (from requests<3.0.0,>=2.13.0->spacy>=2.2.2->en_core_web_lg==2.2.5) (2020.4.5.1)\n",
            "Requirement already satisfied: idna<3,>=2.5 in /usr/local/lib/python3.6/dist-packages (from requests<3.0.0,>=2.13.0->spacy>=2.2.2->en_core_web_lg==2.2.5) (2.9)\n",
            "Requirement already satisfied: urllib3!=1.25.0,!=1.25.1,<1.26,>=1.21.1 in /usr/local/lib/python3.6/dist-packages (from requests<3.0.0,>=2.13.0->spacy>=2.2.2->en_core_web_lg==2.2.5) (1.24.3)\n",
            "Requirement already satisfied: zipp>=0.5 in /usr/local/lib/python3.6/dist-packages (from importlib-metadata>=0.20; python_version < \"3.8\"->catalogue<1.1.0,>=0.0.7->spacy>=2.2.2->en_core_web_lg==2.2.5) (3.1.0)\n",
            "\u001b[38;5;2m✔ Download and installation successful\u001b[0m\n",
            "You can now load the model via spacy.load('en_core_web_lg')\n"
          ],
          "name": "stdout"
        }
      ]
    },
    {
      "cell_type": "code",
      "metadata": {
        "id": "5-YclkDGXzxh",
        "colab_type": "code",
        "colab": {}
      },
      "source": [
        "import spacy \n",
        "import en_core_web_lg\n",
        "  \n",
        "nlp = en_core_web_lg.load()"
      ],
      "execution_count": 0,
      "outputs": []
    },
    {
      "cell_type": "code",
      "metadata": {
        "id": "0F0L8fNXYREv",
        "colab_type": "code",
        "colab": {
          "base_uri": "https://localhost:8080/",
          "height": 35
        },
        "outputId": "55198c88-4926-415b-a61b-7c8fb2998a78"
      },
      "source": [
        "print(\"Similarity:\", nlp('great').similarity(nlp('death')))"
      ],
      "execution_count": 118,
      "outputs": [
        {
          "output_type": "stream",
          "text": [
            "Similarity: 0.30975515438896345\n"
          ],
          "name": "stdout"
        }
      ]
    },
    {
      "cell_type": "code",
      "metadata": {
        "id": "IkaBpfwiPMmN",
        "colab_type": "code",
        "colab": {}
      },
      "source": [
        "def filterEntities(entList):\n",
        "\n",
        "  topics = ['cases', 'outbreak', 'symptoms', 'positive', 'mask', 'masks', 'case', 'new', 'spread',\n",
        "            'tested', 'social', 'testing', 'confirmed', 'quarantine', 'cruise', 'hospital', 'emergency',\n",
        "            'distancing', 'death', 'deaths']\n",
        "\n",
        "  filteredList = []\n",
        "  for entity in entList:\n",
        "    if entity in topics:\n",
        "      filteredList.append(entity) \n",
        "\n",
        "\n",
        "  if len(filteredList) == 0:\n",
        "    return np.nan\n",
        "  else:\n",
        "    return filteredList\n",
        "\n"
      ],
      "execution_count": 0,
      "outputs": []
    },
    {
      "cell_type": "code",
      "metadata": {
        "id": "11kOicf7S-rf",
        "colab_type": "code",
        "colab": {}
      },
      "source": [
        "df994_labeled['Entities'] = df994_labeled['Entities'].apply(lambda x: filterEntities(x))"
      ],
      "execution_count": 0,
      "outputs": []
    },
    {
      "cell_type": "code",
      "metadata": {
        "id": "yYZBys9oTgl2",
        "colab_type": "code",
        "colab": {}
      },
      "source": [
        "df994_labeled = df994_labeled.dropna()"
      ],
      "execution_count": 0,
      "outputs": []
    },
    {
      "cell_type": "code",
      "metadata": {
        "id": "DOPI4Ta5cQZm",
        "colab_type": "code",
        "colab": {
          "base_uri": "https://localhost:8080/",
          "height": 399
        },
        "outputId": "278093f5-f227-4072-9ac4-bc1139c8c13b"
      },
      "source": [
        "df994_labeled"
      ],
      "execution_count": 34,
      "outputs": [
        {
          "output_type": "execute_result",
          "data": {
            "text/html": [
              "<div>\n",
              "<style scoped>\n",
              "    .dataframe tbody tr th:only-of-type {\n",
              "        vertical-align: middle;\n",
              "    }\n",
              "\n",
              "    .dataframe tbody tr th {\n",
              "        vertical-align: top;\n",
              "    }\n",
              "\n",
              "    .dataframe thead th {\n",
              "        text-align: right;\n",
              "    }\n",
              "</style>\n",
              "<table border=\"1\" class=\"dataframe\">\n",
              "  <thead>\n",
              "    <tr style=\"text-align: right;\">\n",
              "      <th></th>\n",
              "      <th>tweet</th>\n",
              "      <th>Entities</th>\n",
              "    </tr>\n",
              "  </thead>\n",
              "  <tbody>\n",
              "    <tr>\n",
              "      <th>102721</th>\n",
              "      <td>imagine cruise ship middle sea board waiting f...</td>\n",
              "      <td>[cruise]</td>\n",
              "    </tr>\n",
              "    <tr>\n",
              "      <th>438979</th>\n",
              "      <td>govt fix riodejaneiro gangs new lockdown story</td>\n",
              "      <td>[new]</td>\n",
              "    </tr>\n",
              "    <tr>\n",
              "      <th>474228</th>\n",
              "      <td>new conservative defense everybody late see true</td>\n",
              "      <td>[new]</td>\n",
              "    </tr>\n",
              "    <tr>\n",
              "      <th>35013</th>\n",
              "      <td>announced monday confirmed cases pneumonia cau...</td>\n",
              "      <td>[confirmed, cases]</td>\n",
              "    </tr>\n",
              "    <tr>\n",
              "      <th>334434</th>\n",
              "      <td>new nurse sars outbreak talks learn</td>\n",
              "      <td>[new, outbreak]</td>\n",
              "    </tr>\n",
              "    <tr>\n",
              "      <th>...</th>\n",
              "      <td>...</td>\n",
              "      <td>...</td>\n",
              "    </tr>\n",
              "    <tr>\n",
              "      <th>136544</th>\n",
              "      <td>confirmed cases february latest data national ...</td>\n",
              "      <td>[confirmed, cases]</td>\n",
              "    </tr>\n",
              "    <tr>\n",
              "      <th>112022</th>\n",
              "      <td>three cases identified france health ministry ...</td>\n",
              "      <td>[cases, cases]</td>\n",
              "    </tr>\n",
              "    <tr>\n",
              "      <th>204868</th>\n",
              "      <td>donation response recent outbreak baidu jungko...</td>\n",
              "      <td>[outbreak]</td>\n",
              "    </tr>\n",
              "    <tr>\n",
              "      <th>355574</th>\n",
              "      <td>landed jfk reporting milan lombardy epicenter ...</td>\n",
              "      <td>[outbreak]</td>\n",
              "    </tr>\n",
              "    <tr>\n",
              "      <th>223722</th>\n",
              "      <td>breaking reports confirmed case canada</td>\n",
              "      <td>[confirmed, case]</td>\n",
              "    </tr>\n",
              "  </tbody>\n",
              "</table>\n",
              "<p>299 rows × 2 columns</p>\n",
              "</div>"
            ],
            "text/plain": [
              "                                                    tweet            Entities\n",
              "102721  imagine cruise ship middle sea board waiting f...            [cruise]\n",
              "438979     govt fix riodejaneiro gangs new lockdown story               [new]\n",
              "474228   new conservative defense everybody late see true               [new]\n",
              "35013   announced monday confirmed cases pneumonia cau...  [confirmed, cases]\n",
              "334434                new nurse sars outbreak talks learn     [new, outbreak]\n",
              "...                                                   ...                 ...\n",
              "136544  confirmed cases february latest data national ...  [confirmed, cases]\n",
              "112022  three cases identified france health ministry ...      [cases, cases]\n",
              "204868  donation response recent outbreak baidu jungko...          [outbreak]\n",
              "355574  landed jfk reporting milan lombardy epicenter ...          [outbreak]\n",
              "223722             breaking reports confirmed case canada   [confirmed, case]\n",
              "\n",
              "[299 rows x 2 columns]"
            ]
          },
          "metadata": {
            "tags": []
          },
          "execution_count": 34
        }
      ]
    },
    {
      "cell_type": "markdown",
      "metadata": {
        "id": "QtcQPruFB90f",
        "colab_type": "text"
      },
      "source": [
        "Testing some supervised LDA/classifiers"
      ]
    },
    {
      "cell_type": "code",
      "metadata": {
        "id": "6_CnJwYZWGRl",
        "colab_type": "code",
        "colab": {}
      },
      "source": [
        "from sklearn.model_selection import train_test_split\n",
        "from sklearn.feature_extraction.text import CountVectorizer\n",
        "from sklearn.decomposition import LatentDirichletAllocation\n",
        "from sklearn.externals import joblib\n",
        "\n",
        "X_train, X_test, y_train, y_test = train_test_split(df994_labeled['tweet'], df994_labeled['Entities'], test_size=0.10, random_state=42)\n",
        "\n",
        "vectorizer = CountVectorizer(analyzer='word')\n",
        "X_train = vectorizer.fit_transform(X_train.tolist())\n",
        "X_test = vectorizer.transform(X_test.tolist())"
      ],
      "execution_count": 0,
      "outputs": []
    },
    {
      "cell_type": "code",
      "metadata": {
        "id": "nRvcrd4CXTtM",
        "colab_type": "code",
        "colab": {}
      },
      "source": [
        "lda = LatentDirichletAllocation(n_components=20, random_state=22, learning_method='online')\n",
        "X_train_tps = lda.fit_transform(X_train)\n",
        "X_test_tps = lda.transform(X_test)"
      ],
      "execution_count": 0,
      "outputs": []
    },
    {
      "cell_type": "code",
      "metadata": {
        "id": "ly_jRq7pX46Y",
        "colab_type": "code",
        "colab": {}
      },
      "source": [
        "from sklearn.preprocessing import MultiLabelBinarizer\n",
        "labeler = MultiLabelBinarizer()\n",
        "labels_train = labeler.fit_transform(y_train.tolist())\n",
        "labels_test = labeler.transform(y_test.tolist())"
      ],
      "execution_count": 0,
      "outputs": []
    },
    {
      "cell_type": "code",
      "metadata": {
        "id": "_U0j_WbmjfZU",
        "colab_type": "code",
        "colab": {}
      },
      "source": [
        ""
      ],
      "execution_count": 0,
      "outputs": []
    },
    {
      "cell_type": "code",
      "metadata": {
        "id": "4JBfcj2Hb9Lr",
        "colab_type": "code",
        "colab": {}
      },
      "source": [
        "from sklearn.multiclass import OneVsRestClassifier\n",
        "from sklearn.svm import SVC\n",
        "from sklearn.linear_model import LogisticRegression\n",
        "from sklearn.metrics import accuracy_score"
      ],
      "execution_count": 0,
      "outputs": []
    },
    {
      "cell_type": "code",
      "metadata": {
        "id": "cP8s4vaidRNe",
        "colab_type": "code",
        "colab": {
          "base_uri": "https://localhost:8080/",
          "height": 1000
        },
        "outputId": "ff0de50f-6c27-494f-f25d-80f9bec12158"
      },
      "source": [
        "lr = LogisticRegression()\n",
        "clf = OneVsRestClassifier(SVC())\n",
        "clf.fit(X_train_tps, labels_train)\n",
        "y_pred = clf.predict(X_test_tps)\n"
      ],
      "execution_count": 63,
      "outputs": [
        {
          "output_type": "stream",
          "text": [
            "0\n",
            "the predicted genres: [0 0 0 0 0 0 0 0 0 0 0 0 0 0 0 0 0 0 0 0]\n",
            "the actual genres: [0 0 0 1 0 0 0 0 0 0 0 0 0 0 0 0 0 0 0 0]\n",
            "1\n",
            "the predicted genres: [0 0 0 0 0 0 0 0 0 0 0 0 0 0 0 0 0 0 0 0]\n",
            "the actual genres: [0 0 0 0 0 0 1 0 0 0 0 0 0 0 0 1 0 0 0 0]\n",
            "2\n",
            "the predicted genres: [0 0 0 0 0 0 0 0 0 0 0 0 0 0 0 0 0 0 0 0]\n",
            "the actual genres: [0 1 0 1 0 0 0 0 0 0 0 1 0 1 0 0 0 0 0 0]\n",
            "3\n",
            "the predicted genres: [0 0 0 0 0 0 0 0 0 0 0 0 0 0 0 0 0 0 0 0]\n",
            "the actual genres: [0 0 0 0 0 0 0 0 0 0 0 1 0 0 0 0 0 0 0 0]\n",
            "4\n",
            "the predicted genres: [0 0 0 0 0 0 0 0 0 0 0 0 0 0 0 0 0 0 0 0]\n",
            "the actual genres: [0 0 0 0 1 0 0 0 0 0 0 0 0 0 0 0 0 0 0 0]\n",
            "5\n",
            "the predicted genres: [0 0 0 0 0 0 0 0 0 0 0 0 0 0 0 0 0 0 0 0]\n",
            "the actual genres: [0 0 0 0 0 0 0 0 0 0 0 0 0 0 0 0 1 0 0 0]\n",
            "6\n",
            "the predicted genres: [0 0 0 0 0 0 0 0 0 0 0 0 0 0 0 0 0 0 0 0]\n",
            "the actual genres: [0 0 0 0 0 0 0 1 0 0 0 0 0 0 0 0 0 0 0 0]\n",
            "7\n",
            "the predicted genres: [0 0 0 0 0 0 0 0 0 0 0 0 0 0 0 0 0 0 0 0]\n",
            "the actual genres: [0 0 0 0 0 0 0 0 0 0 0 0 1 0 0 0 0 0 0 0]\n",
            "8\n",
            "the predicted genres: [0 0 0 0 0 0 0 0 0 0 0 0 0 0 0 0 0 0 0 0]\n",
            "the actual genres: [0 0 0 0 0 0 0 0 0 0 0 0 0 0 0 0 0 0 1 0]\n",
            "9\n",
            "the predicted genres: [0 0 0 0 0 0 0 0 0 0 0 0 0 0 0 0 0 0 0 0]\n",
            "the actual genres: [0 0 0 0 0 1 0 0 0 0 0 0 0 0 0 0 1 0 0 0]\n",
            "10\n",
            "the predicted genres: [0 0 0 0 0 0 0 0 0 0 0 0 0 0 0 0 0 0 0 0]\n",
            "the actual genres: [0 1 0 0 0 0 0 0 0 0 0 0 0 0 0 0 0 0 0 0]\n",
            "11\n",
            "the predicted genres: [0 0 0 0 0 0 0 0 0 0 0 0 0 0 0 0 0 0 0 0]\n",
            "the actual genres: [0 0 0 0 0 0 0 0 0 0 0 1 0 0 1 0 0 0 0 0]\n",
            "12\n",
            "the predicted genres: [0 0 0 0 0 0 0 0 0 0 0 0 0 0 0 0 0 0 0 0]\n",
            "the actual genres: [0 0 0 0 0 0 0 0 0 0 0 0 1 0 0 0 0 0 0 0]\n",
            "13\n",
            "the predicted genres: [0 0 0 0 0 0 0 0 0 0 0 0 0 0 0 0 0 0 0 0]\n",
            "the actual genres: [0 1 0 0 0 0 0 0 0 0 0 1 0 0 0 0 0 0 0 0]\n",
            "14\n",
            "the predicted genres: [0 0 0 0 0 0 0 0 0 0 0 0 0 0 0 0 0 0 0 0]\n",
            "the actual genres: [0 1 0 0 0 0 0 0 0 0 0 0 0 0 0 0 0 0 0 0]\n",
            "15\n",
            "the predicted genres: [0 0 0 0 0 0 0 0 0 0 0 0 0 0 0 0 0 0 0 0]\n",
            "the actual genres: [0 1 1 0 0 0 0 0 0 0 0 1 0 0 0 0 0 0 0 0]\n",
            "16\n",
            "the predicted genres: [0 0 0 0 0 0 0 0 0 0 0 0 0 0 0 0 0 0 0 0]\n",
            "the actual genres: [0 0 0 0 0 0 0 0 0 1 0 0 0 0 0 0 0 0 0 0]\n",
            "17\n",
            "the predicted genres: [0 0 0 0 0 0 0 0 0 0 0 0 0 0 0 0 0 0 0 0]\n",
            "the actual genres: [0 0 0 0 0 0 0 0 0 1 0 1 0 0 0 0 0 0 0 0]\n",
            "18\n",
            "the predicted genres: [0 0 0 0 0 0 0 0 0 0 0 0 0 0 0 0 0 0 0 0]\n",
            "the actual genres: [0 0 0 0 0 0 0 0 0 1 0 1 0 0 0 0 0 0 0 0]\n",
            "19\n",
            "the predicted genres: [0 0 0 0 0 0 0 0 0 0 0 0 0 0 0 0 0 0 0 0]\n",
            "the actual genres: [0 1 1 0 0 0 0 1 0 0 0 0 1 0 0 0 0 0 0 0]\n",
            "20\n",
            "the predicted genres: [0 0 0 0 0 0 0 0 0 0 0 0 0 0 0 0 0 0 0 0]\n",
            "the actual genres: [0 0 0 0 0 0 0 0 0 0 0 1 0 0 0 0 0 0 0 0]\n",
            "21\n",
            "the predicted genres: [0 0 0 0 0 0 0 0 0 0 0 0 0 0 0 0 0 0 0 0]\n",
            "the actual genres: [0 0 0 0 0 0 0 1 0 0 0 0 0 0 0 0 1 0 0 0]\n",
            "22\n",
            "the predicted genres: [0 0 0 0 0 0 0 0 0 0 0 0 0 0 0 0 0 0 0 0]\n",
            "the actual genres: [0 1 0 0 0 0 0 0 0 0 0 1 0 0 0 0 0 0 0 0]\n",
            "23\n",
            "the predicted genres: [0 0 0 0 0 0 0 0 0 0 0 0 0 0 0 0 0 0 0 0]\n",
            "the actual genres: [0 0 0 0 0 0 0 0 0 0 0 0 0 0 0 0 0 0 1 0]\n",
            "24\n",
            "the predicted genres: [0 0 0 0 0 0 0 0 0 0 0 0 0 0 0 0 0 0 0 0]\n",
            "the actual genres: [0 0 0 0 0 0 0 0 0 0 0 0 1 0 0 0 0 0 0 0]\n",
            "25\n",
            "the predicted genres: [0 0 0 0 0 0 0 0 0 0 0 0 0 0 0 0 0 0 0 0]\n",
            "the actual genres: [0 1 0 0 0 0 0 0 0 0 0 0 0 0 0 0 0 0 0 0]\n",
            "26\n",
            "the predicted genres: [0 0 0 0 0 0 0 0 0 0 0 0 1 0 0 0 0 0 0 0]\n",
            "the actual genres: [0 1 0 0 0 1 0 0 0 0 0 0 0 0 0 0 0 0 0 0]\n",
            "27\n",
            "the predicted genres: [0 0 0 0 0 0 0 0 0 0 0 0 0 0 0 0 0 0 0 0]\n",
            "the actual genres: [0 0 0 0 0 0 0 0 1 0 0 0 0 0 0 0 0 0 0 0]\n",
            "28\n",
            "the predicted genres: [0 0 0 0 0 0 0 0 0 0 0 0 0 0 0 0 0 0 0 0]\n",
            "the actual genres: [0 0 0 0 0 0 0 0 0 0 1 0 0 0 0 0 0 0 0 0]\n",
            "29\n",
            "the predicted genres: [0 0 0 0 0 0 0 0 0 0 0 0 0 0 0 0 0 0 0 0]\n",
            "the actual genres: [0 0 0 0 0 0 0 0 1 0 0 0 0 0 0 0 0 0 0 0]\n",
            "accuracy score: 0.0\n"
          ],
          "name": "stdout"
        }
      ]
    },
    {
      "cell_type": "code",
      "metadata": {
        "id": "EjfzfpiZngVQ",
        "colab_type": "code",
        "colab": {}
      },
      "source": [
        "df500k = pd.read_pickle(\"dfnmf500k.pkl\")\n",
        "df10000 = df500k.sample(50000)"
      ],
      "execution_count": 0,
      "outputs": []
    },
    {
      "cell_type": "code",
      "metadata": {
        "id": "anYJEjstoH1W",
        "colab_type": "code",
        "colab": {}
      },
      "source": [
        "df10000['tweet'] = df10000['tweet'].apply(lambda x: preprocess_v2(x))"
      ],
      "execution_count": 0,
      "outputs": []
    },
    {
      "cell_type": "code",
      "metadata": {
        "id": "x7dkjgUWoSk4",
        "colab_type": "code",
        "colab": {}
      },
      "source": [
        "df10000['Entities'] = df10000['tweet'].apply(lambda x: filterEntities(x))"
      ],
      "execution_count": 0,
      "outputs": []
    },
    {
      "cell_type": "code",
      "metadata": {
        "id": "3fF7PqfDoqw_",
        "colab_type": "code",
        "colab": {}
      },
      "source": [
        "df10000 = df10000.dropna()\n",
        "\n",
        "df10000['tweet'] = df10000['tweet'].apply(lambda x: ' '.join(x))"
      ],
      "execution_count": 0,
      "outputs": []
    },
    {
      "cell_type": "code",
      "metadata": {
        "id": "RWFTeGDRpjHc",
        "colab_type": "code",
        "colab": {
          "base_uri": "https://localhost:8080/",
          "height": 399
        },
        "outputId": "e4029c7f-cccd-4926-d9ec-62ed7798dbea"
      },
      "source": [
        "df10000"
      ],
      "execution_count": 85,
      "outputs": [
        {
          "output_type": "execute_result",
          "data": {
            "text/html": [
              "<div>\n",
              "<style scoped>\n",
              "    .dataframe tbody tr th:only-of-type {\n",
              "        vertical-align: middle;\n",
              "    }\n",
              "\n",
              "    .dataframe tbody tr th {\n",
              "        vertical-align: top;\n",
              "    }\n",
              "\n",
              "    .dataframe thead th {\n",
              "        text-align: right;\n",
              "    }\n",
              "</style>\n",
              "<table border=\"1\" class=\"dataframe\">\n",
              "  <thead>\n",
              "    <tr style=\"text-align: right;\">\n",
              "      <th></th>\n",
              "      <th>tweet</th>\n",
              "      <th>Entities</th>\n",
              "    </tr>\n",
              "  </thead>\n",
              "  <tbody>\n",
              "    <tr>\n",
              "      <th>53191</th>\n",
              "      <td>breaking number confirmed cases rises death to...</td>\n",
              "      <td>[confirmed, cases, death]</td>\n",
              "    </tr>\n",
              "    <tr>\n",
              "      <th>370486</th>\n",
              "      <td>countries ahead us testing universal health care</td>\n",
              "      <td>[testing]</td>\n",
              "    </tr>\n",
              "    <tr>\n",
              "      <th>291325</th>\n",
              "      <td>england first two confirmed patients transferr...</td>\n",
              "      <td>[confirmed]</td>\n",
              "    </tr>\n",
              "    <tr>\n",
              "      <th>45089</th>\n",
              "      <td>raleigh woman stuck south korea cases spike</td>\n",
              "      <td>[cases]</td>\n",
              "    </tr>\n",
              "    <tr>\n",
              "      <th>112115</th>\n",
              "      <td>three official cases africa low rate puzzles h...</td>\n",
              "      <td>[cases]</td>\n",
              "    </tr>\n",
              "    <tr>\n",
              "      <th>...</th>\n",
              "      <td>...</td>\n",
              "      <td>...</td>\n",
              "    </tr>\n",
              "    <tr>\n",
              "      <th>43082</th>\n",
              "      <td>diamond princess mill got ship removed within ...</td>\n",
              "      <td>[hospital]</td>\n",
              "    </tr>\n",
              "    <tr>\n",
              "      <th>476361</th>\n",
              "      <td>week old baby connecticut becomes latest infan...</td>\n",
              "      <td>[death]</td>\n",
              "    </tr>\n",
              "    <tr>\n",
              "      <th>70680</th>\n",
              "      <td>sent costco see people stocking even though he...</td>\n",
              "      <td>[case]</td>\n",
              "    </tr>\n",
              "    <tr>\n",
              "      <th>33985</th>\n",
              "      <td>jimmy john sandwich item linked new coli outbreak</td>\n",
              "      <td>[new, outbreak]</td>\n",
              "    </tr>\n",
              "    <tr>\n",
              "      <th>449711</th>\n",
              "      <td>guess media found new ass kiss obvious propaga...</td>\n",
              "      <td>[new]</td>\n",
              "    </tr>\n",
              "  </tbody>\n",
              "</table>\n",
              "<p>13867 rows × 2 columns</p>\n",
              "</div>"
            ],
            "text/plain": [
              "                                                    tweet                   Entities\n",
              "53191   breaking number confirmed cases rises death to...  [confirmed, cases, death]\n",
              "370486   countries ahead us testing universal health care                  [testing]\n",
              "291325  england first two confirmed patients transferr...                [confirmed]\n",
              "45089         raleigh woman stuck south korea cases spike                    [cases]\n",
              "112115  three official cases africa low rate puzzles h...                    [cases]\n",
              "...                                                   ...                        ...\n",
              "43082   diamond princess mill got ship removed within ...                 [hospital]\n",
              "476361  week old baby connecticut becomes latest infan...                    [death]\n",
              "70680   sent costco see people stocking even though he...                     [case]\n",
              "33985   jimmy john sandwich item linked new coli outbreak            [new, outbreak]\n",
              "449711  guess media found new ass kiss obvious propaga...                      [new]\n",
              "\n",
              "[13867 rows x 2 columns]"
            ]
          },
          "metadata": {
            "tags": []
          },
          "execution_count": 85
        }
      ]
    },
    {
      "cell_type": "code",
      "metadata": {
        "id": "d1cyg0UwpIFa",
        "colab_type": "code",
        "colab": {}
      },
      "source": [
        "X_train, X_test, y_train, y_test = train_test_split(df10000['tweet'], df10000['Entities'], test_size=0.25, random_state=42)\n",
        "\n",
        "vectorizer = CountVectorizer(analyzer='word')\n",
        "X_train = vectorizer.fit_transform(X_train.tolist())\n",
        "X_test = vectorizer.transform(X_test.tolist())"
      ],
      "execution_count": 0,
      "outputs": []
    },
    {
      "cell_type": "code",
      "metadata": {
        "id": "Xdv0OyJHpz1t",
        "colab_type": "code",
        "colab": {}
      },
      "source": [
        "lda = LatentDirichletAllocation(n_components=20, random_state=22, learning_method='online')\n",
        "X_train_tps = lda.fit_transform(X_train)\n",
        "X_test_tps = lda.transform(X_test)"
      ],
      "execution_count": 0,
      "outputs": []
    },
    {
      "cell_type": "code",
      "metadata": {
        "id": "cGQQPfPSp6X-",
        "colab_type": "code",
        "colab": {}
      },
      "source": [
        "from sklearn.preprocessing import MultiLabelBinarizer\n",
        "labeler = MultiLabelBinarizer()\n",
        "labels_train = labeler.fit_transform(y_train.tolist())\n",
        "labels_test = labeler.transform(y_test.tolist())"
      ],
      "execution_count": 0,
      "outputs": []
    },
    {
      "cell_type": "code",
      "metadata": {
        "id": "msazHsMPqF1P",
        "colab_type": "code",
        "colab": {
          "base_uri": "https://localhost:8080/",
          "height": 35
        },
        "outputId": "411f00b5-6148-446e-96ee-7e770b4b0d19"
      },
      "source": [
        "lr = LogisticRegression()\n",
        "clf = OneVsRestClassifier(SVC())\n",
        "clf.fit(X_train_tps, labels_train)\n",
        "y_pred = clf.predict(X_test_tps)\n"
      ],
      "execution_count": 90,
      "outputs": [
        {
          "output_type": "stream",
          "text": [
            "accuracy score: 0.10816267666570523\n"
          ],
          "name": "stdout"
        }
      ]
    },
    {
      "cell_type": "code",
      "metadata": {
        "id": "lVjgk4itrodS",
        "colab_type": "code",
        "colab": {}
      },
      "source": [
        "  topics = ['cases', 'outbreak', 'symptoms', 'positive', 'mask', 'masks', 'case', 'new', 'spread',\n",
        "            'tested', 'social', 'testing', 'confirmed', 'quarantine', 'cruise', 'hospital', 'emergency',\n",
        "            'distancing', 'death', 'deaths']"
      ],
      "execution_count": 0,
      "outputs": []
    },
    {
      "cell_type": "code",
      "metadata": {
        "id": "eekt7DYNrSIf",
        "colab_type": "code",
        "colab": {}
      },
      "source": [
        "\n",
        "NB_pipeline = Pipeline([\n",
        "                ('tfidf', TfidfVectorizer()),\n",
        "                ('clf', OneVsRestClassifier(MultinomialNB(\n",
        "                    fit_prior=True, class_prior=None))),\n",
        "            ])\n",
        "for category in topics:\n",
        "    NB_pipeline.fit(X_train, train[category])\n",
        "    prediction = NB_pipeline.predict(X_test)\n"
      ],
      "execution_count": 0,
      "outputs": []
    }
  ]
}