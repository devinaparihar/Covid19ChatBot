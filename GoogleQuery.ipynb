{
 "cells": [
  {
   "cell_type": "code",
   "execution_count": 8,
   "metadata": {},
   "outputs": [
    {
     "name": "stdout",
     "output_type": "stream",
     "text": [
      "<Response [200]>\n",
      "76ºF76ºFTulsi Kamath, Senior Digital News EditorAaron Barker, Senior Digital EditorErica Ponder, Digital Content Producer1 day ago17 minutes ago46 minutes ago1 hour ago1 hour agoTulsi Kamath, Senior Digital News EditorAaron Barker, Senior Digital EditorErica Ponder, Digital Content ProducerHOUSTON – Here is a quick look at the coronavirus cases that have been reported in the Greater Houston area\n"
     ]
    }
   ],
   "source": [
    "import requests\n",
    "from lxml import html\n",
    "from googlesearch import search\n",
    "from bs4 import BeautifulSoup\n",
    "import string\n",
    "\n",
    "query = \"how many coronavirus cases in houston?\"\n",
    "\n",
    "search_result_list = list(search(query, tld=\"com\", num=10, stop=3, pause=1))\n",
    "\n",
    "page = requests.get(search_result_list[0])\n",
    "\n",
    "print(page)\n",
    "\n",
    "tree = html.fromstring(page.content)\n",
    "\n",
    "soup = BeautifulSoup(page.content, features=\"lxml\")\n",
    "\n",
    "article_text = ''\n",
    "article = soup.findAll('p')\n",
    "for element in article:\n",
    "    article_text += '\\n' + ''.join(element.findAll(text = True))\n",
    "article_text = article_text.replace('\\n', '')\n",
    "first_sentence = article_text.split('.')\n",
    "first_sentence = first_sentence[0].split('?')[0]\n",
    "\n",
    "chars_without_whitespace = first_sentence.translate(\n",
    "    { ord(c): None for c in string.whitespace }\n",
    ")\n",
    "print(first_sentence)"
   ]
  },
  {
   "cell_type": "code",
   "execution_count": null,
   "metadata": {},
   "outputs": [],
   "source": []
  }
 ],
 "metadata": {
  "kernelspec": {
   "display_name": "Python 3",
   "language": "python",
   "name": "python3"
  },
  "language_info": {
   "codemirror_mode": {
    "name": "ipython",
    "version": 3
   },
   "file_extension": ".py",
   "mimetype": "text/x-python",
   "name": "python",
   "nbconvert_exporter": "python",
   "pygments_lexer": "ipython3",
   "version": "3.7.3"
  }
 },
 "nbformat": 4,
 "nbformat_minor": 2
}
